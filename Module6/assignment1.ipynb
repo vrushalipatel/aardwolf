{
 "cells": [
  {
   "cell_type": "code",
   "execution_count": 143,
   "metadata": {
    "collapsed": true
   },
   "outputs": [],
   "source": [
    "import matplotlib as mpl\n",
    "import matplotlib.pyplot as plt\n",
    "\n",
    "import pandas as pd\n",
    "import numpy as np \n",
    "import time"
   ]
  },
  {
   "cell_type": "code",
   "execution_count": 144,
   "metadata": {
    "collapsed": true
   },
   "outputs": [],
   "source": [
    "# \n",
    "# INFO: Your Parameters.\n",
    "# You can adjust them after completing the lab\n",
    "C = 1\n",
    "kernel = 'linear'\n",
    "iterations = 200000   # TODO: Change to 200000 once you get to Question#2\n",
    "\n",
    "#\n",
    "# INFO: You can set this to false if you want to\n",
    "# draw the full square matrix\n",
    "FAST_DRAW = True"
   ]
  },
  {
   "cell_type": "code",
   "execution_count": 145,
   "metadata": {},
   "outputs": [],
   "source": [
    "def drawPlots(model, X_train, X_test, y_train, y_test, wintitle='Figure 1'):\n",
    "    # INFO: A convenience function for you\n",
    "    # You can use this to break any higher-dimensional space down\n",
    "    # And view cross sections of it.\n",
    "\n",
    "      # If this line throws an error, use plt.style.use('ggplot') instead\n",
    "      mpl.style.use('ggplot') # Look Pretty\n",
    "\n",
    "      padding = 3\n",
    "      resolution = 0.5\n",
    "      max_2d_score = 0\n",
    "\n",
    "      y_colors = ['#ff0000', '#00ff00', '#0000ff']\n",
    "      my_cmap = mpl.colors.ListedColormap(['#ffaaaa', '#aaffaa', '#aaaaff'])\n",
    "      colors = [y_colors[i] for i in y_train]\n",
    "      num_columns = len(X_train.columns)\n",
    "\n",
    "      fig = plt.figure()\n",
    "      fig.canvas.set_window_title(wintitle)\n",
    "\n",
    "      cnt = 0\n",
    "      for col in range(num_columns):\n",
    "        for row in range(num_columns):\n",
    "          # Easy out\n",
    "          if FAST_DRAW and col > row:\n",
    "            cnt += 1\n",
    "            continue\n",
    "\n",
    "          ax = plt.subplot(num_columns, num_columns, cnt + 1)\n",
    "          plt.xticks(())\n",
    "          plt.yticks(())\n",
    "\n",
    "          # Intersection:\n",
    "          if col == row:\n",
    "            plt.text(0.5, 0.5, X_train.columns[row], verticalalignment='center', horizontalalignment='center', fontsize=12)\n",
    "            cnt += 1\n",
    "            continue\n",
    "\n",
    "\n",
    "          # Only select two features to display, then train the model\n",
    "          X_train_bag = X_train.ix[:, [row,col]]\n",
    "          X_test_bag = X_test.ix[:, [row,col]]\n",
    "          model.fit(X_train_bag, y_train)\n",
    "\n",
    "          # Create a mesh to plot in\n",
    "          x_min, x_max = X_train_bag.ix[:, 0].min() - padding, X_train_bag.ix[:, 0].max() + padding\n",
    "          y_min, y_max = X_train_bag.ix[:, 1].min() - padding, X_train_bag.ix[:, 1].max() + padding\n",
    "          xx, yy = np.meshgrid(np.arange(x_min, x_max, resolution),\n",
    "                               np.arange(y_min, y_max, resolution))\n",
    "\n",
    "          # Plot Boundaries\n",
    "          plt.xlim(xx.min(), xx.max())\n",
    "          plt.ylim(yy.min(), yy.max())\n",
    "\n",
    "          # Prepare the contour\n",
    "          Z = model.predict(np.c_[xx.ravel(), yy.ravel()])\n",
    "          Z = Z.reshape(xx.shape)\n",
    "          plt.contourf(xx, yy, Z, cmap=my_cmap, alpha=0.8)\n",
    "          plt.scatter(X_train_bag.ix[:, 0], X_train_bag.ix[:, 1], c=colors, alpha=0.5)\n",
    "\n",
    "\n",
    "          score = round(model.score(X_test_bag, y_test) * 100, 3)\n",
    "          plt.text(0.5, 0, \"Score: {0}\".format(score), transform = ax.transAxes, horizontalalignment='center', fontsize=8)\n",
    "          max_2d_score = score if score > max_2d_score else max_2d_score\n",
    "\n",
    "          cnt += 1\n",
    "\n",
    "      print \"Max 2D Score: \", max_2d_score\n",
    "      fig.set_tight_layout(True)"
   ]
  },
  {
   "cell_type": "code",
   "execution_count": 146,
   "metadata": {},
   "outputs": [],
   "source": [
    "def benchmark(model, X_train, X_test, y_train, y_test, wintitle='Figure 1'):\n",
    "    print '\\n\\n' + wintitle + ' Results'\n",
    "    s = time.time()\n",
    "    for i in range(iterations):\n",
    "        model.fit(X_train, y_train)\n",
    "    print \"{0} Iterations Training Time: \".format(iterations), time.time() - s\n",
    "    \n",
    "    s = time.time()\n",
    "    for i in range(iterations):\n",
    "        score = model.score(X_test, y_test)\n",
    "    print \"{0} Iterations Scoring Time: \".format(iterations), time.time() - s\n",
    "    print \"High-Dimensionality Score: \", round((score*100), 3)"
   ]
  },
  {
   "cell_type": "code",
   "execution_count": 147,
   "metadata": {
    "collapsed": true
   },
   "outputs": [],
   "source": [
    "# \n",
    "# TODO: Load up the wheat dataset into dataframe 'X'\n",
    "# Verify you did it properly.\n",
    "# Indices shouldn't be doubled, nor weird headers...\n",
    "#\n",
    "\n",
    "X = pd.read_csv('Datasets/wheat.data',index_col=0)"
   ]
  },
  {
   "cell_type": "code",
   "execution_count": 148,
   "metadata": {},
   "outputs": [
    {
     "name": "stdout",
     "output_type": "stream",
     "text": [
      "      area  perimeter  compactness  length  width  asymmetry  groove  \\\n",
      "id                                                                     \n",
      "7    14.11      14.10       0.8911  5.4200  3.302      2.700     NaN   \n",
      "35   16.12      15.00          NaN  0.9000    NaN      5.709   3.485   \n",
      "60   11.42      12.86       0.8683  5.0080  2.850      2.700     NaN   \n",
      "135  15.38      14.66       0.8990  5.4770  3.465      3.600     NaN   \n",
      "169  11.24      13.00          NaN  0.8359  5.090      2.715   3.521   \n",
      "170  11.02      13.00          NaN  0.8189  5.325      2.701   6.735   \n",
      "201  12.67      13.32       0.8977  4.9840  3.135      2.300     NaN   \n",
      "\n",
      "    wheat_type  \n",
      "id              \n",
      "7     canadian  \n",
      "35    canadian  \n",
      "60    canadian  \n",
      "135   canadian  \n",
      "169   canadian  \n",
      "170   canadian  \n",
      "201   canadian  \n"
     ]
    }
   ],
   "source": [
    "# INFO: An easy way to show which rows have nans in them\n",
    "print X[pd.isnull(X).any(axis=1)]"
   ]
  },
  {
   "cell_type": "code",
   "execution_count": 149,
   "metadata": {
    "collapsed": true
   },
   "outputs": [],
   "source": [
    "# \n",
    "# TODO: Go ahead and drop any row with a nan\n",
    "#\n",
    "X = X.dropna()"
   ]
  },
  {
   "cell_type": "code",
   "execution_count": 150,
   "metadata": {
    "collapsed": true
   },
   "outputs": [],
   "source": [
    "# \n",
    "# INFO: # In the future, you might try setting the nan values to the\n",
    "# mean value of that column, the mean should only be calculated for\n",
    "# the specific class rather than across all classes, now that you\n",
    "# have the labels"
   ]
  },
  {
   "cell_type": "code",
   "execution_count": 151,
   "metadata": {},
   "outputs": [
    {
     "data": {
      "text/html": [
       "<div>\n",
       "<style>\n",
       "    .dataframe thead tr:only-child th {\n",
       "        text-align: right;\n",
       "    }\n",
       "\n",
       "    .dataframe thead th {\n",
       "        text-align: left;\n",
       "    }\n",
       "\n",
       "    .dataframe tbody tr th {\n",
       "        vertical-align: top;\n",
       "    }\n",
       "</style>\n",
       "<table border=\"1\" class=\"dataframe\">\n",
       "  <thead>\n",
       "    <tr style=\"text-align: right;\">\n",
       "      <th></th>\n",
       "      <th>area</th>\n",
       "      <th>perimeter</th>\n",
       "      <th>compactness</th>\n",
       "      <th>length</th>\n",
       "      <th>width</th>\n",
       "      <th>asymmetry</th>\n",
       "      <th>groove</th>\n",
       "      <th>wheat_type</th>\n",
       "    </tr>\n",
       "    <tr>\n",
       "      <th>id</th>\n",
       "      <th></th>\n",
       "      <th></th>\n",
       "      <th></th>\n",
       "      <th></th>\n",
       "      <th></th>\n",
       "      <th></th>\n",
       "      <th></th>\n",
       "      <th></th>\n",
       "    </tr>\n",
       "  </thead>\n",
       "  <tbody>\n",
       "    <tr>\n",
       "      <th>0</th>\n",
       "      <td>15.26</td>\n",
       "      <td>14.84</td>\n",
       "      <td>0.8710</td>\n",
       "      <td>5.763</td>\n",
       "      <td>3.312</td>\n",
       "      <td>2.221</td>\n",
       "      <td>5.220</td>\n",
       "      <td>kama</td>\n",
       "    </tr>\n",
       "    <tr>\n",
       "      <th>1</th>\n",
       "      <td>14.88</td>\n",
       "      <td>14.57</td>\n",
       "      <td>0.8811</td>\n",
       "      <td>5.554</td>\n",
       "      <td>3.333</td>\n",
       "      <td>1.018</td>\n",
       "      <td>4.956</td>\n",
       "      <td>kama</td>\n",
       "    </tr>\n",
       "    <tr>\n",
       "      <th>2</th>\n",
       "      <td>14.29</td>\n",
       "      <td>14.09</td>\n",
       "      <td>0.9050</td>\n",
       "      <td>5.291</td>\n",
       "      <td>3.337</td>\n",
       "      <td>2.699</td>\n",
       "      <td>4.825</td>\n",
       "      <td>kama</td>\n",
       "    </tr>\n",
       "    <tr>\n",
       "      <th>3</th>\n",
       "      <td>13.84</td>\n",
       "      <td>13.94</td>\n",
       "      <td>0.8955</td>\n",
       "      <td>5.324</td>\n",
       "      <td>3.379</td>\n",
       "      <td>2.259</td>\n",
       "      <td>4.805</td>\n",
       "      <td>kama</td>\n",
       "    </tr>\n",
       "    <tr>\n",
       "      <th>4</th>\n",
       "      <td>16.14</td>\n",
       "      <td>14.99</td>\n",
       "      <td>0.9034</td>\n",
       "      <td>5.658</td>\n",
       "      <td>3.562</td>\n",
       "      <td>1.355</td>\n",
       "      <td>5.175</td>\n",
       "      <td>kama</td>\n",
       "    </tr>\n",
       "  </tbody>\n",
       "</table>\n",
       "</div>"
      ],
      "text/plain": [
       "     area  perimeter  compactness  length  width  asymmetry  groove wheat_type\n",
       "id                                                                            \n",
       "0   15.26      14.84       0.8710   5.763  3.312      2.221   5.220       kama\n",
       "1   14.88      14.57       0.8811   5.554  3.333      1.018   4.956       kama\n",
       "2   14.29      14.09       0.9050   5.291  3.337      2.699   4.825       kama\n",
       "3   13.84      13.94       0.8955   5.324  3.379      2.259   4.805       kama\n",
       "4   16.14      14.99       0.9034   5.658  3.562      1.355   5.175       kama"
      ]
     },
     "execution_count": 151,
     "metadata": {},
     "output_type": "execute_result"
    }
   ],
   "source": [
    "X.head()"
   ]
  },
  {
   "cell_type": "code",
   "execution_count": 152,
   "metadata": {},
   "outputs": [],
   "source": [
    "#\n",
    "# TODO: Copy the labels out of the dset into variable 'y' then Remove\n",
    "# them from X. Encode the labels, using the .map() trick we showed\n",
    "# you in Module 5 -- canadian:0, kama:1, and rosa:2\n",
    "#\n",
    "X.wheat_type = X.wheat_type.map({'canadian':0, 'kama':1, 'rosa':2})\n",
    "y = X.wheat_type\n"
   ]
  },
  {
   "cell_type": "code",
   "execution_count": 153,
   "metadata": {},
   "outputs": [],
   "source": [
    "X.drop(labels=['wheat_type'], inplace=True, axis=1)"
   ]
  },
  {
   "cell_type": "code",
   "execution_count": 154,
   "metadata": {
    "collapsed": true
   },
   "outputs": [],
   "source": [
    "# \n",
    "# TODO: Split your data into test / train sets\n",
    "# Your test size can be 30% with random_state 7.\n",
    "# Use variable names: X_train, X_test, y_train, y_test\n",
    "#\n",
    "from sklearn.model_selection import train_test_split\n",
    "X_train, X_test, y_train, y_test = train_test_split(X, y, test_size = 0.3, random_state = 7)"
   ]
  },
  {
   "cell_type": "code",
   "execution_count": 155,
   "metadata": {
    "collapsed": true
   },
   "outputs": [],
   "source": [
    "#\n",
    "# TODO: Create an SVC classifier named svc\n",
    "# Use a linear kernel, and set the C value to C\n",
    "#\n",
    "from sklearn.svm import SVC\n",
    "svc = SVC(kernel=kernel,C=C)"
   ]
  },
  {
   "cell_type": "code",
   "execution_count": 156,
   "metadata": {
    "collapsed": true
   },
   "outputs": [],
   "source": [
    "#\n",
    "# TODO: Create an KNeighbors classifier named knn\n",
    "# Set the neighbor count to 5\n",
    "#\n",
    "from sklearn.neighbors import KNeighborsClassifier\n",
    "knn = KNeighborsClassifier(n_neighbors=5)"
   ]
  },
  {
   "cell_type": "code",
   "execution_count": 157,
   "metadata": {},
   "outputs": [
    {
     "name": "stdout",
     "output_type": "stream",
     "text": [
      "\n",
      "\n",
      "KNeighbors Results\n",
      "200000 Iterations Training Time:  63.0290000439\n",
      "200000 Iterations Scoring Time:  225.047999859\n",
      "High-Dimensionality Score:  83.607\n"
     ]
    }
   ],
   "source": [
    "%matplotlib notebook\n",
    "benchmark(knn, X_train, X_test, y_train, y_test, 'KNeighbors')"
   ]
  },
  {
   "cell_type": "code",
   "execution_count": 158,
   "metadata": {},
   "outputs": [
    {
     "name": "stdout",
     "output_type": "stream",
     "text": [
      "\n",
      "\n",
      "SVC Results\n",
      "200000 Iterations Training Time:  116.330000162\n",
      "200000 Iterations Scoring Time:  45.3659999371\n",
      "High-Dimensionality Score:  86.885\n"
     ]
    }
   ],
   "source": [
    "%matplotlib notebook\n",
    "benchmark(svc, X_train, X_test, y_train, y_test, 'SVC')"
   ]
  },
  {
   "cell_type": "code",
   "execution_count": 159,
   "metadata": {},
   "outputs": [],
   "source": [
    "#drawPlots(knn, X_train, X_test, y_train, y_test, 'KNeighbors')"
   ]
  },
  {
   "cell_type": "code",
   "execution_count": 160,
   "metadata": {},
   "outputs": [],
   "source": [
    "#drawPlots(svc, X_train, X_test, y_train, y_test, 'SVC')"
   ]
  },
  {
   "cell_type": "code",
   "execution_count": 161,
   "metadata": {
    "collapsed": true
   },
   "outputs": [],
   "source": [
    "#\n",
    "# BONUS: After submitting your answers, toy around with\n",
    "# gamma, kernel, and C."
   ]
  }
 ],
 "metadata": {
  "kernelspec": {
   "display_name": "Python 2",
   "language": "python",
   "name": "python2"
  },
  "language_info": {
   "codemirror_mode": {
    "name": "ipython",
    "version": 2
   },
   "file_extension": ".py",
   "mimetype": "text/x-python",
   "name": "python",
   "nbconvert_exporter": "python",
   "pygments_lexer": "ipython2",
   "version": "2.7.13"
  }
 },
 "nbformat": 4,
 "nbformat_minor": 2
}
