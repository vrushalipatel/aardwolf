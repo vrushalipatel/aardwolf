{
 "cells": [
  {
   "cell_type": "code",
   "execution_count": 247,
   "metadata": {
    "collapsed": true
   },
   "outputs": [],
   "source": [
    "import pandas as pd\n",
    "import numpy as np"
   ]
  },
  {
   "cell_type": "code",
   "execution_count": 248,
   "metadata": {
    "collapsed": true
   },
   "outputs": [],
   "source": [
    "X = pd.read_csv('Datasets/parkinsons.data', index_col = 0)"
   ]
  },
  {
   "cell_type": "code",
   "execution_count": 249,
   "metadata": {},
   "outputs": [],
   "source": [
    "y = X.status"
   ]
  },
  {
   "cell_type": "code",
   "execution_count": 250,
   "metadata": {
    "collapsed": true
   },
   "outputs": [],
   "source": [
    "X.drop(labels = ['status'], inplace = True, axis = 1)"
   ]
  },
  {
   "cell_type": "code",
   "execution_count": 251,
   "metadata": {
    "collapsed": true
   },
   "outputs": [],
   "source": [
    "from sklearn.model_selection import train_test_split\n",
    "X_train, X_test, y_train, y_test = train_test_split(X, y, test_size = 0.3, random_state = 7)"
   ]
  },
  {
   "cell_type": "code",
   "execution_count": 252,
   "metadata": {},
   "outputs": [],
   "source": [
    "from sklearn.preprocessing import StandardScaler\n",
    "normalize = StandardScaler()\n",
    "normalize.fit(X_train)\n",
    "X_train = normalize.transform(X_train)\n",
    "X_test = normalize.transform(X_test)"
   ]
  },
  {
   "cell_type": "code",
   "execution_count": 253,
   "metadata": {},
   "outputs": [],
   "source": [
    "#X_train = pd.DataFrame(X_train)\n",
    "#X_test = pd.DataFrame(y_train)"
   ]
  },
  {
   "cell_type": "code",
   "execution_count": 254,
   "metadata": {
    "collapsed": true
   },
   "outputs": [],
   "source": [
    "from sklearn.svm import SVC\n",
    "model = SVC()"
   ]
  },
  {
   "cell_type": "code",
   "execution_count": 255,
   "metadata": {},
   "outputs": [
    {
     "data": {
      "text/plain": [
       "SVC(C=1.0, cache_size=200, class_weight=None, coef0=0.0,\n",
       "  decision_function_shape=None, degree=3, gamma='auto', kernel='rbf',\n",
       "  max_iter=-1, probability=False, random_state=None, shrinking=True,\n",
       "  tol=0.001, verbose=False)"
      ]
     },
     "execution_count": 255,
     "metadata": {},
     "output_type": "execute_result"
    }
   ],
   "source": [
    "model.fit(X_train, y_train)"
   ]
  },
  {
   "cell_type": "code",
   "execution_count": 256,
   "metadata": {},
   "outputs": [
    {
     "data": {
      "text/plain": [
       "0.9152542372881356"
      ]
     },
     "execution_count": 256,
     "metadata": {},
     "output_type": "execute_result"
    }
   ],
   "source": [
    "score = model.score(X_test, y_test)\n",
    "score"
   ]
  },
  {
   "cell_type": "code",
   "execution_count": 257,
   "metadata": {
    "collapsed": true
   },
   "outputs": [],
   "source": [
    "c_range = np.arange(0.05, 2.05, 0.05)\n",
    "g_range = np.arange(0.001, 0.101, 0.001)"
   ]
  },
  {
   "cell_type": "code",
   "execution_count": 258,
   "metadata": {},
   "outputs": [
    {
     "name": "stdout",
     "output_type": "stream",
     "text": [
      "2.0 0.1 0.932203389831\n"
     ]
    }
   ],
   "source": [
    "best_score = 0\n",
    "for C in c_range:\n",
    "    for g in g_range:\n",
    "        model = SVC(C=C, gamma=g)\n",
    "        model.fit(X_train, y_train)\n",
    "        score = model.score(X_test, y_test)\n",
    "        #current_best_score = best_score\n",
    "        if score >= best_score:\n",
    "            best_score = score\n",
    "print C, g, best_score"
   ]
  },
  {
   "cell_type": "markdown",
   "metadata": {},
   "source": [
    "# Lab Question 4"
   ]
  },
  {
   "cell_type": "code",
   "execution_count": null,
   "metadata": {
    "collapsed": true
   },
   "outputs": [],
   "source": []
  },
  {
   "cell_type": "code",
   "execution_count": 287,
   "metadata": {
    "collapsed": true
   },
   "outputs": [],
   "source": [
    "import pandas as pd\n",
    "import numpy as np\n",
    "from sklearn.preprocessing import StandardScaler\n",
    "from sklearn.svm import SVC\n",
    "from sklearn.decomposition import PCA\n",
    "from sklearn import manifold"
   ]
  },
  {
   "cell_type": "code",
   "execution_count": 281,
   "metadata": {
    "collapsed": true
   },
   "outputs": [],
   "source": [
    "def readData():\n",
    "    X = pd.read_csv('Datasets/parkinsons.data', index_col = 0)\n",
    "    y = X.status\n",
    "    X.drop(labels = ['status'], inplace = True, axis = 1)\n",
    "    return X, y"
   ]
  },
  {
   "cell_type": "code",
   "execution_count": 282,
   "metadata": {
    "collapsed": true
   },
   "outputs": [],
   "source": [
    "def doScaling(X_train, X_test):\n",
    "    scale = StandardScaler()\n",
    "    scale.fit(X_train)\n",
    "    X_train = normalize.transform(X_train)\n",
    "    X_test = normalize.transform(X_test)\n",
    "    return X_train, X_test"
   ]
  },
  {
   "cell_type": "code",
   "execution_count": 283,
   "metadata": {
    "collapsed": true
   },
   "outputs": [],
   "source": [
    "def doPCA(n, train, test):\n",
    "    pca = PCA(n_components=n)\n",
    "    pca.fit(train)\n",
    "    train = pca.transform(train)\n",
    "    test = pca.transform(test)\n",
    "    return train, test"
   ]
  },
  {
   "cell_type": "code",
   "execution_count": 284,
   "metadata": {},
   "outputs": [],
   "source": [
    "def doSVC(X_train, X_test, y_train, y_test):\n",
    "    model = SVC(C=2.0, gamma=0.1)\n",
    "    model.fit(X_train, y_train)\n",
    "    score = model.score(X_test, y_test)\n",
    "    return score"
   ]
  },
  {
   "cell_type": "code",
   "execution_count": 288,
   "metadata": {
    "collapsed": true
   },
   "outputs": [],
   "source": [
    "def doIsoMap(neighbours, comp, train, test):\n",
    "    iso = manifold.Isomap(n_neighbors=neighbours, n_components=comp)\n",
    "    iso.fit(train)\n",
    "    train = iso.transform(train)\n",
    "    test = iso.transform(test)\n",
    "    return train, test"
   ]
  },
  {
   "cell_type": "code",
   "execution_count": 291,
   "metadata": {},
   "outputs": [
    {
     "name": "stdout",
     "output_type": "stream",
     "text": [
      "4 0.881355932203\n",
      "5 0.898305084746\n",
      "6 0.915254237288\n",
      "7 0.932203389831\n",
      "8 0.932203389831\n",
      "9 0.932203389831\n",
      "10 0.932203389831\n",
      "11 0.932203389831\n",
      "12 0.932203389831\n",
      "13 0.932203389831\n",
      "14 0.932203389831\n"
     ]
    }
   ],
   "source": [
    "for i in range(4, 15):\n",
    "    X, y = readData()\n",
    "    X_train, X_test, y_train, y_test = train_test_split(X, y, test_size = 0.3, random_state = 7)\n",
    "    X_train, X_test = doScaling(X_train, X_test)\n",
    "    X_train, X_test = doPCA(i, X_train, X_test)\n",
    "    score = doSVC(X_train, X_test, y_train, y_test)\n",
    "    print i, score"
   ]
  },
  {
   "cell_type": "code",
   "execution_count": 292,
   "metadata": {},
   "outputs": [
    {
     "name": "stdout",
     "output_type": "stream",
     "text": [
      "2 4 0.915254237288\n",
      "2 5 0.915254237288\n",
      "2 6 0.915254237288\n",
      "3 4 0.915254237288\n",
      "3 5 0.915254237288\n",
      "3 6 0.915254237288\n",
      "4 4 0.932203389831\n",
      "4 5 0.915254237288\n",
      "4 6 0.915254237288\n",
      "5 4 0.932203389831\n",
      "5 5 0.932203389831\n",
      "5 6 0.949152542373\n"
     ]
    }
   ],
   "source": [
    "for n in range(2, 6):\n",
    "    for c in range(4, 7):        \n",
    "        X, y = readData()\n",
    "        X_train, X_test, y_train, y_test = train_test_split(X, y, test_size = 0.3, random_state = 7)\n",
    "        X_train, X_test = doScaling(X_train, X_test)\n",
    "        X_train, X_test = doIsoMap(n, c, X_train, X_test)\n",
    "        score = doSVC(X_train, X_test, y_train, y_test)\n",
    "        print n, c, score"
   ]
  },
  {
   "cell_type": "code",
   "execution_count": null,
   "metadata": {
    "collapsed": true
   },
   "outputs": [],
   "source": []
  }
 ],
 "metadata": {
  "kernelspec": {
   "display_name": "Python 2",
   "language": "python",
   "name": "python2"
  },
  "language_info": {
   "codemirror_mode": {
    "name": "ipython",
    "version": 2
   },
   "file_extension": ".py",
   "mimetype": "text/x-python",
   "name": "python",
   "nbconvert_exporter": "python",
   "pygments_lexer": "ipython2",
   "version": "2.7.13"
  }
 },
 "nbformat": 4,
 "nbformat_minor": 2
}
